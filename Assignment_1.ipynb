{
 "cells": [
  {
   "cell_type": "markdown",
   "id": "b2c21845",
   "metadata": {},
   "source": [
    "# Assignment 1. Numpy Assignment"
   ]
  },
  {
   "cell_type": "markdown",
   "id": "ccb08182",
   "metadata": {},
   "source": [
    "### Problem 1"
   ]
  },
  {
   "cell_type": "code",
   "execution_count": 1,
   "id": "5f153275",
   "metadata": {},
   "outputs": [],
   "source": [
    "import numpy as np"
   ]
  },
  {
   "cell_type": "markdown",
   "id": "1199b117",
   "metadata": {},
   "source": [
    "### Problem 2"
   ]
  },
  {
   "cell_type": "code",
   "execution_count": 2,
   "id": "745df185",
   "metadata": {},
   "outputs": [
    {
     "data": {
      "text/plain": [
       "array([15, 16, 17, 18, 19, 20, 21, 22, 23, 24, 25, 26, 27, 28, 29, 30, 31,\n",
       "       32, 33, 34, 35, 36, 37, 38, 39, 40])"
      ]
     },
     "execution_count": 2,
     "metadata": {},
     "output_type": "execute_result"
    }
   ],
   "source": [
    "array1 = np.arange(15, 41)\n",
    "array1\n"
   ]
  },
  {
   "cell_type": "code",
   "execution_count": 3,
   "id": "fb542d63",
   "metadata": {},
   "outputs": [
    {
     "data": {
      "text/plain": [
       "array([10, 11, 12, 13, 14, 15, 16, 17, 18, 19, 20, 21, 22, 23, 24, 25])"
      ]
     },
     "execution_count": 3,
     "metadata": {},
     "output_type": "execute_result"
    }
   ],
   "source": [
    "array2 = np.arange(10, 26)\n",
    "array2"
   ]
  },
  {
   "cell_type": "markdown",
   "id": "f354d6a8",
   "metadata": {},
   "source": [
    "##### Both array1 and array2 intercept from 15 to 25. array1 has 26 elements and array2 has 16 elements. Unique numbers to array1 are all inegers from 26 to 40. Unique numbers in array2 are all integers from 10 to 14."
   ]
  },
  {
   "cell_type": "markdown",
   "id": "c3ae1217",
   "metadata": {},
   "source": [
    "### Problem 3"
   ]
  },
  {
   "cell_type": "code",
   "execution_count": 4,
   "id": "56e1ac40",
   "metadata": {},
   "outputs": [
    {
     "data": {
      "text/plain": [
       "array([ 2,  4,  6,  8, 10, 12, 14, 16, 18, 20])"
      ]
     },
     "execution_count": 4,
     "metadata": {},
     "output_type": "execute_result"
    }
   ],
   "source": [
    "even_array1 = np.arange(2,21,2)\n",
    "even_array1"
   ]
  },
  {
   "cell_type": "code",
   "execution_count": 8,
   "id": "662b850f",
   "metadata": {},
   "outputs": [
    {
     "data": {
      "text/plain": [
       "(10,)"
      ]
     },
     "execution_count": 8,
     "metadata": {},
     "output_type": "execute_result"
    }
   ],
   "source": [
    "even_array1.shape"
   ]
  },
  {
   "cell_type": "code",
   "execution_count": 9,
   "id": "1c41cfc4",
   "metadata": {},
   "outputs": [
    {
     "data": {
      "text/plain": [
       "array([34, 36, 38, 40, 42])"
      ]
     },
     "execution_count": 9,
     "metadata": {},
     "output_type": "execute_result"
    }
   ],
   "source": [
    "even_array2 = np.arange(34,43,2)\n",
    "even_array2"
   ]
  },
  {
   "cell_type": "code",
   "execution_count": 11,
   "id": "24dd33a0",
   "metadata": {},
   "outputs": [
    {
     "data": {
      "text/plain": [
       "(5,)"
      ]
     },
     "execution_count": 11,
     "metadata": {},
     "output_type": "execute_result"
    }
   ],
   "source": [
    "even_array2.shape"
   ]
  },
  {
   "cell_type": "code",
   "execution_count": 13,
   "id": "1d4883d4",
   "metadata": {},
   "outputs": [
    {
     "ename": "ValueError",
     "evalue": "all input arrays must have the same shape",
     "output_type": "error",
     "traceback": [
      "\u001b[1;31m---------------------------------------------------------------------------\u001b[0m",
      "\u001b[1;31mValueError\u001b[0m                                Traceback (most recent call last)",
      "\u001b[1;32m<ipython-input-13-df0a8410c0b6>\u001b[0m in \u001b[0;36m<module>\u001b[1;34m\u001b[0m\n\u001b[1;32m----> 1\u001b[1;33m \u001b[0mmatrix\u001b[0m \u001b[1;33m=\u001b[0m \u001b[0mnp\u001b[0m\u001b[1;33m.\u001b[0m\u001b[0mstack\u001b[0m\u001b[1;33m(\u001b[0m\u001b[1;33m(\u001b[0m\u001b[0meven_array1\u001b[0m\u001b[1;33m,\u001b[0m \u001b[0meven_array2\u001b[0m\u001b[1;33m)\u001b[0m\u001b[1;33m)\u001b[0m\u001b[1;33m\u001b[0m\u001b[1;33m\u001b[0m\u001b[0m\n\u001b[0m",
      "\u001b[1;32m<__array_function__ internals>\u001b[0m in \u001b[0;36mstack\u001b[1;34m(*args, **kwargs)\u001b[0m\n",
      "\u001b[1;32m~\\Anaconda3\\lib\\site-packages\\numpy\\core\\shape_base.py\u001b[0m in \u001b[0;36mstack\u001b[1;34m(arrays, axis, out)\u001b[0m\n\u001b[0;32m    425\u001b[0m     \u001b[0mshapes\u001b[0m \u001b[1;33m=\u001b[0m \u001b[1;33m{\u001b[0m\u001b[0marr\u001b[0m\u001b[1;33m.\u001b[0m\u001b[0mshape\u001b[0m \u001b[1;32mfor\u001b[0m \u001b[0marr\u001b[0m \u001b[1;32min\u001b[0m \u001b[0marrays\u001b[0m\u001b[1;33m}\u001b[0m\u001b[1;33m\u001b[0m\u001b[1;33m\u001b[0m\u001b[0m\n\u001b[0;32m    426\u001b[0m     \u001b[1;32mif\u001b[0m \u001b[0mlen\u001b[0m\u001b[1;33m(\u001b[0m\u001b[0mshapes\u001b[0m\u001b[1;33m)\u001b[0m \u001b[1;33m!=\u001b[0m \u001b[1;36m1\u001b[0m\u001b[1;33m:\u001b[0m\u001b[1;33m\u001b[0m\u001b[1;33m\u001b[0m\u001b[0m\n\u001b[1;32m--> 427\u001b[1;33m         \u001b[1;32mraise\u001b[0m \u001b[0mValueError\u001b[0m\u001b[1;33m(\u001b[0m\u001b[1;34m'all input arrays must have the same shape'\u001b[0m\u001b[1;33m)\u001b[0m\u001b[1;33m\u001b[0m\u001b[1;33m\u001b[0m\u001b[0m\n\u001b[0m\u001b[0;32m    428\u001b[0m \u001b[1;33m\u001b[0m\u001b[0m\n\u001b[0;32m    429\u001b[0m     \u001b[0mresult_ndim\u001b[0m \u001b[1;33m=\u001b[0m \u001b[0marrays\u001b[0m\u001b[1;33m[\u001b[0m\u001b[1;36m0\u001b[0m\u001b[1;33m]\u001b[0m\u001b[1;33m.\u001b[0m\u001b[0mndim\u001b[0m \u001b[1;33m+\u001b[0m \u001b[1;36m1\u001b[0m\u001b[1;33m\u001b[0m\u001b[1;33m\u001b[0m\u001b[0m\n",
      "\u001b[1;31mValueError\u001b[0m: all input arrays must have the same shape"
     ]
    }
   ],
   "source": [
    "matrix = np.stack((even_array1, even_array2)) ## Gives a ValueError because the arrays are not the same shape"
   ]
  },
  {
   "cell_type": "code",
   "execution_count": 15,
   "id": "0d04cbc1",
   "metadata": {},
   "outputs": [
    {
     "data": {
      "text/plain": [
       "array([34., 36., 38., 40., 42., nan, nan, nan, nan, nan])"
      ]
     },
     "execution_count": 15,
     "metadata": {},
     "output_type": "execute_result"
    }
   ],
   "source": [
    "## reshape even_array2 with NaN values to match the shape of even_array1\n",
    "\n",
    "for i in range(len(even_array1) - len(even_array2)):\n",
    "    even_array2 = np.append(even_array2, np.nan)\n",
    "    \n",
    "even_array2"
   ]
  },
  {
   "cell_type": "code",
   "execution_count": 16,
   "id": "acc56298",
   "metadata": {},
   "outputs": [
    {
     "data": {
      "text/plain": [
       "(10,)"
      ]
     },
     "execution_count": 16,
     "metadata": {},
     "output_type": "execute_result"
    }
   ],
   "source": [
    "even_array2.shape"
   ]
  },
  {
   "cell_type": "code",
   "execution_count": 18,
   "id": "50494db2",
   "metadata": {
    "scrolled": true
   },
   "outputs": [
    {
     "data": {
      "text/plain": [
       "array([[ 2.,  4.,  6.,  8., 10., 12., 14., 16., 18., 20.],\n",
       "       [34., 36., 38., 40., 42., nan, nan, nan, nan, nan]])"
      ]
     },
     "execution_count": 18,
     "metadata": {},
     "output_type": "execute_result"
    }
   ],
   "source": [
    "matrix = np.stack((even_array1, even_array2))\n",
    "matrix"
   ]
  },
  {
   "cell_type": "markdown",
   "id": "72b11591",
   "metadata": {},
   "source": [
    "### Problem 4"
   ]
  },
  {
   "cell_type": "code",
   "execution_count": 23,
   "id": "adba497c",
   "metadata": {},
   "outputs": [
    {
     "data": {
      "text/plain": [
       "array([[ 0,  1,  2,  3,  4,  5],\n",
       "       [ 6,  7,  8,  9, 10, 11],\n",
       "       [12, 13, 14, 15, 16, 17],\n",
       "       [18, 19, 20, 21, 22, 23],\n",
       "       [24, 25, 26, 27, 28, 29],\n",
       "       [30, 31, 32, 33, 34, 35]])"
      ]
     },
     "execution_count": 23,
     "metadata": {},
     "output_type": "execute_result"
    }
   ],
   "source": [
    "prob_4 = np.arange(36)\n",
    "prob_4.resize(6,6)\n",
    "prob_4"
   ]
  },
  {
   "cell_type": "code",
   "execution_count": 24,
   "id": "392e7d75",
   "metadata": {},
   "outputs": [
    {
     "data": {
      "text/plain": [
       "13"
      ]
     },
     "execution_count": 24,
     "metadata": {},
     "output_type": "execute_result"
    }
   ],
   "source": [
    "prob_4[2][1]"
   ]
  },
  {
   "cell_type": "code",
   "execution_count": 28,
   "id": "53c557ef",
   "metadata": {},
   "outputs": [
    {
     "data": {
      "text/plain": [
       "array([[ 1.02205183, -0.77655373],\n",
       "       [ 0.2663816 , -0.34838166],\n",
       "       [ 0.14170691, -0.30695103],\n",
       "       [-0.76668098,  1.91669184],\n",
       "       [-1.77299199,  0.08740619]])"
      ]
     },
     "execution_count": 28,
     "metadata": {},
     "output_type": "execute_result"
    }
   ],
   "source": [
    "prob_4_1 = np.random.randn(5,2)\n",
    "prob_4_1"
   ]
  },
  {
   "cell_type": "code",
   "execution_count": 29,
   "id": "45bdf5a8",
   "metadata": {},
   "outputs": [
    {
     "data": {
      "text/plain": [
       "0.08740619093461748"
      ]
     },
     "execution_count": 29,
     "metadata": {},
     "output_type": "execute_result"
    }
   ],
   "source": [
    "prob_4_1[4][1]"
   ]
  },
  {
   "cell_type": "markdown",
   "id": "6a818619",
   "metadata": {},
   "source": [
    "### Problem 5"
   ]
  },
  {
   "cell_type": "code",
   "execution_count": 35,
   "id": "07f4a781",
   "metadata": {},
   "outputs": [
    {
     "data": {
      "text/plain": [
       "1.9166918360602412"
      ]
     },
     "execution_count": 35,
     "metadata": {},
     "output_type": "execute_result"
    }
   ],
   "source": [
    "prob_4_1.max()"
   ]
  },
  {
   "cell_type": "code",
   "execution_count": 36,
   "id": "a4968f6e",
   "metadata": {},
   "outputs": [
    {
     "data": {
      "text/plain": [
       "-1.7729919872976274"
      ]
     },
     "execution_count": 36,
     "metadata": {},
     "output_type": "execute_result"
    }
   ],
   "source": [
    "prob_4_1.min()"
   ]
  },
  {
   "cell_type": "code",
   "execution_count": 37,
   "id": "e2f2897f",
   "metadata": {},
   "outputs": [
    {
     "data": {
      "text/plain": [
       "0.9663348649628165"
      ]
     },
     "execution_count": 37,
     "metadata": {},
     "output_type": "execute_result"
    }
   ],
   "source": [
    "prob_4_1.std()"
   ]
  },
  {
   "cell_type": "code",
   "execution_count": 38,
   "id": "1f8aa269",
   "metadata": {},
   "outputs": [
    {
     "data": {
      "text/plain": [
       "0.9338030712427049"
      ]
     },
     "execution_count": 38,
     "metadata": {},
     "output_type": "execute_result"
    }
   ],
   "source": [
    "prob_4_1.var()"
   ]
  },
  {
   "cell_type": "code",
   "execution_count": 39,
   "id": "1d585759",
   "metadata": {},
   "outputs": [
    {
     "data": {
      "text/plain": [
       "-0.05373210204065358"
      ]
     },
     "execution_count": 39,
     "metadata": {},
     "output_type": "execute_result"
    }
   ],
   "source": [
    "prob_4_1.mean()"
   ]
  },
  {
   "cell_type": "code",
   "execution_count": null,
   "id": "17e60d84",
   "metadata": {},
   "outputs": [],
   "source": []
  }
 ],
 "metadata": {
  "kernelspec": {
   "display_name": "Python 3",
   "language": "python",
   "name": "python3"
  },
  "language_info": {
   "codemirror_mode": {
    "name": "ipython",
    "version": 3
   },
   "file_extension": ".py",
   "mimetype": "text/x-python",
   "name": "python",
   "nbconvert_exporter": "python",
   "pygments_lexer": "ipython3",
   "version": "3.8.8"
  }
 },
 "nbformat": 4,
 "nbformat_minor": 5
}
